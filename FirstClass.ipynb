{
 "cells": [
  {
   "cell_type": "code",
   "execution_count": 2,
   "id": "ultimate-grain",
   "metadata": {},
   "outputs": [
    {
     "data": {
      "text/plain": [
       "648.427"
      ]
     },
     "execution_count": 2,
     "metadata": {},
     "output_type": "execute_result"
    }
   ],
   "source": [
    "403*1.609"
   ]
  },
  {
   "cell_type": "code",
   "execution_count": 14,
   "id": "median-exhaust",
   "metadata": {},
   "outputs": [
    {
     "name": "stdout",
     "output_type": "stream",
     "text": [
      "22\n",
      "22\n",
      "False\n",
      "True\n"
     ]
    }
   ],
   "source": [
    "x= \"university of \"\n",
    "y= \"Peshawar\"\n",
    "\n",
    "z=x+y\n",
    "w= \"university of Peshawef\"\n",
    "\n",
    "print(len(z))\n",
    "print(len(w))\n",
    "\n",
    "print(z==w)\n",
    "print(len(z)==len(w))"
   ]
  },
  {
   "cell_type": "code",
   "execution_count": 3,
   "id": "technological-conditions",
   "metadata": {},
   "outputs": [],
   "source": [
    "def appendMiddle(s1, s2):\n",
    "  middleIndex = int(len(s1) /2)\n",
    "  middleThree = s1[:middleIndex:]+ s2 +s1[middleIndex:]\n",
    "  print(middleThree) "
   ]
  },
  {
   "cell_type": "code",
   "execution_count": 5,
   "id": "typical-heritage",
   "metadata": {},
   "outputs": [
    {
     "name": "stdout",
     "output_type": "stream",
     "text": [
      "AuKellylts\n"
     ]
    }
   ],
   "source": [
    "appendMiddle(\"Aults\", \"Kelly\")"
   ]
  },
  {
   "cell_type": "code",
   "execution_count": 2,
   "id": "straight-applicant",
   "metadata": {},
   "outputs": [
    {
     "name": "stdout",
     "output_type": "stream",
     "text": [
      "my favourite number is  7\n"
     ]
    }
   ],
   "source": [
    "myNumb(7)"
   ]
  },
  {
   "cell_type": "code",
   "execution_count": 3,
   "id": "double-london",
   "metadata": {},
   "outputs": [
    {
     "name": "stdout",
     "output_type": "stream",
     "text": [
      "my favourite number is  8\n"
     ]
    }
   ],
   "source": [
    "myNumb(8)"
   ]
  },
  {
   "cell_type": "code",
   "execution_count": null,
   "id": "medium-democrat",
   "metadata": {},
   "outputs": [],
   "source": []
  }
 ],
 "metadata": {
  "kernelspec": {
   "display_name": "Python 3",
   "language": "python",
   "name": "python3"
  },
  "language_info": {
   "codemirror_mode": {
    "name": "ipython",
    "version": 3
   },
   "file_extension": ".py",
   "mimetype": "text/x-python",
   "name": "python",
   "nbconvert_exporter": "python",
   "pygments_lexer": "ipython3",
   "version": "3.8.5"
  }
 },
 "nbformat": 4,
 "nbformat_minor": 5
}
